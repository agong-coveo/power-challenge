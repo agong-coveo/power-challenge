{
 "cells": [
  {
   "cell_type": "code",
   "execution_count": 1,
   "metadata": {},
   "outputs": [],
   "source": [
    "from coveopush import CoveoPush\n",
    "from coveopush import Document\n",
    "\n",
    "from bs4 import BeautifulSoup\n",
    "import requests\n",
    "import pandas as pd\n",
    "import re\n",
    "import json"
   ]
  },
  {
   "cell_type": "code",
   "execution_count": 8,
   "metadata": {},
   "outputs": [],
   "source": [
    "URL = \"https://pokemondb.net/pokedex/national\"\n",
    "POKEDEX_ENDPOINT = 'https://pokemondb.net'\n",
    "\n",
    "page = requests.get(URL)"
   ]
  },
  {
   "cell_type": "code",
   "execution_count": 3,
   "metadata": {},
   "outputs": [],
   "source": [
    "soup = BeautifulSoup(page.content, \"html.parser\")"
   ]
  },
  {
   "cell_type": "code",
   "execution_count": 4,
   "metadata": {},
   "outputs": [],
   "source": [
    "pokemon_names = soup.find_all(class_='ent-name')"
   ]
  },
  {
   "cell_type": "code",
   "execution_count": 5,
   "metadata": {},
   "outputs": [],
   "source": [
    "# pokemon link\n",
    "bublbasaur_link = pokemon_names[0]['href']\n",
    "\n",
    "# pokemon name\n",
    "pokemon_name = pokemon_names[0].get_text()\n",
    "\n",
    "POKEDEX_ENDPOINT = 'https://pokemondb.net'\n",
    "bublbasaur_page = requests.get(POKEDEX_ENDPOINT + bublbasaur_link)\n",
    "bublbasaur_soup = BeautifulSoup(bublbasaur_page.content, \"html.parser\")"
   ]
  },
  {
   "cell_type": "code",
   "execution_count": 7,
   "metadata": {},
   "outputs": [
    {
     "data": {
      "text/plain": [
       "'Overgrow'"
      ]
     },
     "execution_count": 7,
     "metadata": {},
     "output_type": "execute_result"
    }
   ],
   "source": [
    "bublbasaur_data = bublbasaur_soup.find('tr'),{\"class\":\"vitals-table\"}\n",
    "bublbasaur_soup.find(\"th\", text=\"Abilities\").next_sibling.next_sibling.a.text"
   ]
  },
  {
   "cell_type": "code",
   "execution_count": 8,
   "metadata": {},
   "outputs": [
    {
     "data": {
      "text/plain": [
       "'https://img.pokemondb.net/artwork/bulbasaur.jpg'"
      ]
     },
     "execution_count": 8,
     "metadata": {},
     "output_type": "execute_result"
    }
   ],
   "source": [
    "# pokemon image\n",
    "bublbasaur_img = bublbasaur_soup.find('img')['src']\n",
    "bublbasaur_img"
   ]
  },
  {
   "cell_type": "code",
   "execution_count": 9,
   "metadata": {},
   "outputs": [],
   "source": [
    "bublbasaur_data = bublbasaur_soup.find('table', class_='vitals-table')\n",
    "\n",
    "# pokemon national number\n",
    "bulbasaur_num = bublbasaur_data.find(\"th\", text=\"National №\").find_next('td').get_text()\n",
    "\n",
    "# pokemon type(s)\n",
    "bublbasaur_types = bublbasaur_data.find_all(class_='type-icon')\n",
    "types = list(t.get_text() for t in bublbasaur_types)\n",
    "\n",
    "# type1 = bublbasaur_types[0].get_text()\n",
    "# if len(bublbasaur_types) == 2:\n",
    "#     type2 = bublbasaur_types[1].get_text()\n",
    "# else:\n",
    "#     type2 = '-'\n",
    "\n",
    "# pokemon species\n",
    "pokemon_species = bublbasaur_soup.find('th', text='Species').find_next('td').get_text()\n",
    "\n",
    "# pokemon height \n",
    "pokemon_height = bublbasaur_data.find('th', text='Height').find_next('td').get_text().split()[0]\n",
    "\n",
    "# pokemon weight \n",
    "pokemon_weight = bublbasaur_data.find('th', text='Weight').find_next('td').get_text().split()[0]\n",
    "\n",
    "# pokemon abilities\n",
    "pokemon_abilities_html = bublbasaur_data.find('th', text='Abilities').find_next('td').find_all('a')\n",
    "pokemon_abilities = list(a.get_text() for a in pokemon_abilities_html)\n"
   ]
  },
  {
   "cell_type": "code",
   "execution_count": 42,
   "metadata": {},
   "outputs": [
    {
     "data": {
      "text/plain": [
       "'{\"name\": \"Bulbasaur\", \"link\": \"/pokedex/bulbasaur\", \"img\": \"https://img.pokemondb.net/artwork/bulbasaur.jpg\", \"nat_num\": \"001\", \"types\": [\"Grass\", \"Poison\"], \"species\": \"Seed Pok\\\\u00e9mon\", \"height\": \"0.7\", \"weight\": \"6.9\", \"abilities\": [\"Overgrow\", \"Chlorophyll\"]}'"
      ]
     },
     "execution_count": 42,
     "metadata": {},
     "output_type": "execute_result"
    }
   ],
   "source": [
    "# create dict with pokemon data\n",
    "bublbasaur = {\n",
    "    'name': pokemon_name,\n",
    "    'link': bublbasaur_link,\n",
    "    'img': bublbasaur_img,\n",
    "    'nat_num': bulbasaur_num,\n",
    "    'types': types,\n",
    "    'species': pokemon_species,\n",
    "    'height': pokemon_height,\n",
    "    'weight': pokemon_weight,\n",
    "    'abilities': pokemon_abilities\n",
    "}\n",
    "\n",
    "pokemon_json = json.dumps(bublbasaur)\n",
    "pokemon_json"
   ]
  },
  {
   "cell_type": "code",
   "execution_count": 63,
   "metadata": {},
   "outputs": [],
   "source": [
    "src_id = 'agongcoveocomgrotesquechinchillaxx1ef20h-vlfshqcn5gn3uuvbimpggxcnya'\n",
    "org_id = 'agongcoveocomgrotesquechinchillaxx1ef20h'\n",
    "api_key = 'xx2c315919-8534-4813-b884-389e31db0ad1'\n",
    "\n",
    "push = CoveoPush.Push(src_id, org_id, api_key)\n",
    "push.Start()\n",
    "\n",
    "# meta_keys = ['name', 'link', 'img', 'nat_num', 'types', 'species', 'height', 'weight', 'abilities']\n",
    "\n",
    "# bublbasaur_object = json.load(pokemon_json)\n",
    "my_doc = Document(POKEDEX_ENDPOINT + bublbasaur_link)\n",
    "my_doc.SetData(requests.get(POKEDEX_ENDPOINT + bublbasaur_link).text)\n",
    "\n",
    "for k in bublbasaur.keys():\n",
    "    my_doc.AddMetadata(k, bublbasaur[k])\n",
    "\n",
    "push.AddSingleDocument(my_doc)"
   ]
  },
  {
   "cell_type": "code",
   "execution_count": 77,
   "metadata": {},
   "outputs": [
    {
     "data": {
      "text/plain": [
       "'1'"
      ]
     },
     "execution_count": 77,
     "metadata": {},
     "output_type": "execute_result"
    }
   ],
   "source": [
    "generations_html = soup.find_all('h2')\n",
    "\n",
    "pokemon_generation = generations_html[0].text.split()[1]\n",
    "\n",
    "info_cards = pokemon_generation.find_n\n"
   ]
  },
  {
   "cell_type": "code",
   "execution_count": 79,
   "metadata": {},
   "outputs": [
    {
     "data": {
      "text/plain": [
       "'Generation 1'"
      ]
     },
     "execution_count": 79,
     "metadata": {},
     "output_type": "execute_result"
    }
   ],
   "source": [
    "bublbasaur_soup.find_all('abbr')[0].text"
   ]
  },
  {
   "cell_type": "code",
   "execution_count": 124,
   "metadata": {},
   "outputs": [],
   "source": [
    "def format_name(pokemon_name):\n",
    "    return ''.join(pokemon_name.split()).lower()"
   ]
  },
  {
   "cell_type": "code",
   "execution_count": 5,
   "metadata": {},
   "outputs": [],
   "source": [
    "def get_initial_infos(ref):\n",
    "    # Get pokemon link\n",
    "    link = ref['href']\n",
    "\n",
    "    # Get pokemon name\n",
    "    name = ref.text\n",
    "\n",
    "    return link, name\n"
   ]
  },
  {
   "cell_type": "code",
   "execution_count": 117,
   "metadata": {},
   "outputs": [],
   "source": [
    "def get_general_data_tab(child_name, child_soup):\n",
    "    # Retrieve Pokemon's image\n",
    "    pokemon_img = child_soup.find('img')['src']\n",
    "    \n",
    "    # Retrieve Pokemon's 'Pokedex data' table\n",
    "    pokemon_data = child_soup.find('table', class_='vitals-table')\n",
    "\n",
    "    # pokemon type(s)\n",
    "    pokemon_types_html = pokemon_data.find_all(class_='type-icon')\n",
    "    pokemon_types = list(t.text for t in pokemon_types_html)\n",
    "\n",
    "    # pokemon height \n",
    "    pokemon_height = pokemon_data.find('th', text='Height').find_next('td').get_text().split()[0]\n",
    "\n",
    "    # pokemon weight \n",
    "    pokemon_weight = pokemon_data.find('th', text='Weight').find_next('td').get_text().split()[0]\n",
    "\n",
    "    # pokemon abilities\n",
    "    pokemon_abilities_html = pokemon_data.find('th', text='Abilities').find_next('td').find_all('a')\n",
    "    pokemon_abilities = list(a.text for a in pokemon_abilities_html)\n",
    "\n",
    "    # create dict with pokemon data\n",
    "    pokemon = {\n",
    "        'name': child_name,\n",
    "        'img': pokemon_img,\n",
    "        # 'desc': pokemon_desc,\n",
    "        # 'nat_num': pokemon_num,\n",
    "        'types': pokemon_types,\n",
    "        'height': pokemon_height,\n",
    "        'weight': pokemon_weight,\n",
    "        'abilities': pokemon_abilities,\n",
    "        'folding_child': format_name(child_name)\n",
    "    }\n",
    "\n",
    "    return pokemon"
   ]
  },
  {
   "cell_type": "code",
   "execution_count": 135,
   "metadata": {},
   "outputs": [],
   "source": [
    "def get_general_data(pokemon_name, pokemon_link):\n",
    "    # Create individual pokemon's soup\n",
    "    pokemon_page = requests.get(POKEDEX_ENDPOINT + pokemon_link)\n",
    "    pokemon_soup = BeautifulSoup(pokemon_page.content, \"html.parser\")\n",
    "\n",
    "    # Retrieve Pokemon's image\n",
    "    pokemon_img = pokemon_soup.find('img')['src']\n",
    "\n",
    "    # Retrieve Pokemon's generation\n",
    "    pokemon_generation = pokemon_soup.find('abbr').text\n",
    "\n",
    "    # Retrieve short description \n",
    "    pokemon_desc = pokemon_soup.find('p').text\n",
    "    \n",
    "    # Retrieve Pokemon's 'Pokedex data' table\n",
    "    pokemon_data = pokemon_soup.find('table', class_='vitals-table')\n",
    "\n",
    "    # pokemon national number\n",
    "    pokemon_num = pokemon_data.find(\"th\", text=\"National №\").find_next('td').get_text()\n",
    "\n",
    "    # pokemon type(s)\n",
    "    pokemon_types_html = pokemon_data.find_all(class_='type-icon')\n",
    "    pokemon_types = list(t.text for t in pokemon_types_html)\n",
    "\n",
    "    # pokemon species\n",
    "    pokemon_species = pokemon_soup.find('th', text='Species').find_next('td').get_text()\n",
    "\n",
    "    # pokemon height \n",
    "    pokemon_height = pokemon_data.find('th', text='Height').find_next('td').get_text().split()[0]\n",
    "\n",
    "    # pokemon weight \n",
    "    pokemon_weight = pokemon_data.find('th', text='Weight').find_next('td').get_text().split()[0]\n",
    "\n",
    "    # pokemon abilities\n",
    "    pokemon_abilities_html = pokemon_data.find('th', text='Abilities').find_next('td').find_all('a')\n",
    "    pokemon_abilities = list(a.text for a in pokemon_abilities_html)\n",
    "\n",
    "    # Format pokemon's name\n",
    "    formatted_name = format_name(pokemon_name)\n",
    "\n",
    "    pokemon_forms = []\n",
    "    \n",
    "    # create dict with pokemon data\n",
    "    pokemon = {\n",
    "        'name': pokemon_name,\n",
    "        'link': pokemon_link,\n",
    "        'generation': pokemon_generation,\n",
    "        'img': pokemon_img,\n",
    "        'desc': pokemon_desc,\n",
    "        'nat_num': pokemon_num,\n",
    "        'types': pokemon_types,\n",
    "        'species': pokemon_species,\n",
    "        'height': pokemon_height,\n",
    "        'weight': pokemon_weight,\n",
    "        'abilities': pokemon_abilities,\n",
    "        'folding_collection': formatted_name,\n",
    "        'folding_parent': formatted_name,\n",
    "        'folding_child': formatted_name\n",
    "    }\n",
    "\n",
    "    pokemon_forms.append(pokemon)\n",
    "\n",
    "    # Retrieve Pokemon's other forms\n",
    "    pokemon_tabs = pokemon_soup.find_all(class_='sv-tabs-tab', href=re.compile(r'#tab-basic'))\n",
    "    pokemon_special_forms = pokemon_tabs[1:]\n",
    "\n",
    "    if pokemon_special_forms:\n",
    "        for p in pokemon_special_forms:\n",
    "            child_name = p.text\n",
    "            child_soup = pokemon_soup.find('div', id=p['href'][1:])\n",
    "            child_obj = get_general_data_tab(child_name, child_soup)\n",
    "            child_obj['folding_collection'] = formatted_name\n",
    "            child_obj['folding_parent'] = formatted_name\n",
    "            child_obj['link'] = pokemon_link + p['href']\n",
    "            pokemon_forms.append(child_obj)\n",
    "\n",
    "    return pokemon_forms\n"
   ]
  },
  {
   "cell_type": "code",
   "execution_count": 136,
   "metadata": {},
   "outputs": [
    {
     "data": {
      "text/plain": [
       "[{'name': 'Latios',\n",
       "  'link': '/pokedex/latios',\n",
       "  'generation': 'Generation 3',\n",
       "  'img': 'https://img.pokemondb.net/artwork/latios.jpg',\n",
       "  'desc': 'Latios is a Dragon/Psychic type Pokémon introduced in Generation 3. It is known as the Eon Pokémon.',\n",
       "  'nat_num': '381',\n",
       "  'types': ['Dragon', 'Psychic'],\n",
       "  'species': 'Eon Pokémon',\n",
       "  'height': '2.0',\n",
       "  'weight': '60.0',\n",
       "  'abilities': ['Levitate'],\n",
       "  'folding_collection': 'latios',\n",
       "  'folding_parent': 'latios',\n",
       "  'folding_child': 'latios'},\n",
       " {'name': 'Mega Latios',\n",
       "  'img': 'https://img.pokemondb.net/artwork/latios-mega.jpg',\n",
       "  'types': ['Dragon', 'Psychic'],\n",
       "  'height': '2.3',\n",
       "  'weight': '70.0',\n",
       "  'abilities': ['Levitate'],\n",
       "  'folding_child': 'megalatios',\n",
       "  'folding_collection': 'latios',\n",
       "  'folding_parent': 'latios',\n",
       "  'link': '/pokedex/latios#tab-basic-11048'}]"
      ]
     },
     "execution_count": 136,
     "metadata": {},
     "output_type": "execute_result"
    }
   ],
   "source": [
    "get_general_data('Latios', '/pokedex/latios')"
   ]
  },
  {
   "cell_type": "code",
   "execution_count": 137,
   "metadata": {},
   "outputs": [],
   "source": [
    "# Load national pokedex page\n",
    "URL = \"https://pokemondb.net/pokedex/national\"\n",
    "POKEDEX_ENDPOINT = 'https://pokemondb.net'\n",
    "\n",
    "page = requests.get(URL)\n",
    "\n",
    "# Cresate initial page soup\n",
    "soup = BeautifulSoup(page.content, \"html.parser\")\n",
    "\n",
    "# Retrieve all Pokemon refs\n",
    "pokemon_refs = soup.find_all(class_='ent-name')\n",
    "\n",
    "all_pokemons = []\n",
    "\n",
    "for r in pokemon_refs:\n",
    "    pokemon_link, pokemon_name = get_initial_infos(r)\n",
    "    pokemon_obj = get_general_data(pokemon_name, pokemon_link)\n",
    "    \n",
    "    all_pokemons.extend(pokemon_obj)\n",
    "\n",
    "# Start using Push API\n",
    "src_id = 'agongcoveocomgrotesquechinchillaxx1ef20h-vlfshqcn5gn3uuvbimpggxcnya'\n",
    "org_id = 'agongcoveocomgrotesquechinchillaxx1ef20h'\n",
    "api_key = 'xx2c315919-8534-4813-b884-389e31db0ad1'\n",
    "\n",
    "push = CoveoPush.Push(src_id, org_id, api_key)\n",
    "push.Start()\n",
    "\n",
    "for p in all_pokemons:\n",
    "    pokemon_page_link = POKEDEX_ENDPOINT + p['link']\n",
    "    my_doc = Document(pokemon_page_link)\n",
    "    my_doc.SetData(requests.get(pokemon_page_link).text)\n",
    "\n",
    "    for k in p.keys():\n",
    "        my_doc.AddMetadata(k, p[k])\n",
    "    push.Add(my_doc)\n",
    "\n",
    "push.End(True, True)"
   ]
  }
 ],
 "metadata": {
  "interpreter": {
   "hash": "0148db3315494c8bebfa064f63b1bc7eb2f1729894242531f98beac8e3546af6"
  },
  "kernelspec": {
   "display_name": "Python 3.10.4 ('env': venv)",
   "language": "python",
   "name": "python3"
  },
  "language_info": {
   "codemirror_mode": {
    "name": "ipython",
    "version": 3
   },
   "file_extension": ".py",
   "mimetype": "text/x-python",
   "name": "python",
   "nbconvert_exporter": "python",
   "pygments_lexer": "ipython3",
   "version": "3.10.4"
  },
  "orig_nbformat": 4
 },
 "nbformat": 4,
 "nbformat_minor": 2
}
